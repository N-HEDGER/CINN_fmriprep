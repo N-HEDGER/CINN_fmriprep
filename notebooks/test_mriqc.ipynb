{
 "cells": [
  {
   "cell_type": "code",
   "execution_count": 1,
   "metadata": {},
   "outputs": [],
   "source": [
    "%load_ext autoreload\n",
    "%autoreload 2\n",
    "import os"
   ]
  },
  {
   "cell_type": "markdown",
   "metadata": {},
   "source": [
    "## Activate mriqc\n",
    "\n",
    "Firstly, we need to activate fmriprep. This will add the relevant files to our path. This only needs doing once (you dont have to do it again next time you login).\n",
    "\n"
   ]
  },
  {
   "cell_type": "code",
   "execution_count": 2,
   "metadata": {},
   "outputs": [
    {
     "name": "stdout",
     "output_type": "stream",
     "text": [
      "Activated\n"
     ]
    }
   ],
   "source": [
    "from CINN_fmriprep.fmriprep import activate_mriqc\n",
    "activate_mriqc()"
   ]
  },
  {
   "cell_type": "markdown",
   "metadata": {},
   "source": [
    "## Define an mriqc handler.\n",
    "\n",
    "Here I define an mriqchandler. The main arguments are the path to the BIDS directory on which to do the mriqcing, the output directory and the work directory for intermediate files. slurmout_path will define where the files that update on progress and errors will be stored.  \n",
    "\n",
    "In this case, I also define a subject on whom to do the mriqcing. If this argument is not included it defaults to doing all subjects and then combining the results into a group report: https://mriqc.readthedocs.io/en/stable/running.html#running-mriqc-on-hpc-clusters:~:text=Possible%20choices%3A%20participant%2C%20group"
   ]
  },
  {
   "cell_type": "code",
   "execution_count": 3,
   "metadata": {},
   "outputs": [],
   "source": [
    "from CINN_fmriprep.fmriprep import MriqcHandler as mriqc\n",
    "k= mriqc('/storage/basic/nh_leverhulme/Richardson_2018','/storage/basic/nh_leverhulme/mriqc','/storage/basic/nh_leverhulme/work2',\n",
    "        slurmout_path='/home/users/yg916972/Scripts/',subject='sub-pixar002')\n"
   ]
  },
  {
   "cell_type": "markdown",
   "metadata": {},
   "source": [
    "I now make the SLURM job for the subject using the make_slurm method."
   ]
  },
  {
   "cell_type": "code",
   "execution_count": 4,
   "metadata": {},
   "outputs": [],
   "source": [
    "k.make_slurm()"
   ]
  },
  {
   "cell_type": "markdown",
   "metadata": {},
   "source": [
    "Now we have an mriqc template script created. "
   ]
  },
  {
   "cell_type": "code",
   "execution_count": 5,
   "metadata": {},
   "outputs": [
    {
     "name": "stdout",
     "output_type": "stream",
     "text": [
      "#!/bin/sh\n",
      "\n",
      "#SBATCH --cpus-per-task       8\n",
      "#SBATCH --error               /home/users/yg916972/Scripts/mriqc_sub-pixar002.err\n",
      "#SBATCH --mail-type           ALL\n",
      "#SBATCH --mail-user           n.hedger@reading.ac.uk\n",
      "#SBATCH --mem-per-cpu         2G\n",
      "#SBATCH --nodes               1-1\n",
      "#SBATCH --output              /home/users/yg916972/Scripts/mriqc_sub-pixar002.out\n",
      "\n",
      "source ~/.bashrc\n",
      "cd /storage\n",
      "\n"
     ]
    }
   ],
   "source": [
    "print(k.slurm)"
   ]
  },
  {
   "cell_type": "markdown",
   "metadata": {},
   "source": [
    "Upon being submitted, the following command will be submitted to the job queue using sbatch"
   ]
  },
  {
   "cell_type": "code",
   "execution_count": 6,
   "metadata": {},
   "outputs": [
    {
     "data": {
      "text/plain": [
       "'mriqc /storage/basic/nh_leverhulme/Richardson_2018 /storage/basic/nh_leverhulme/mriqc/sub-pixar002 participant --participant-label sub-pixar002 -w /storage/basic/nh_leverhulme/work2/sub-pixar002 '"
      ]
     },
     "execution_count": 6,
     "metadata": {},
     "output_type": "execute_result"
    }
   ],
   "source": [
    "k.cmd"
   ]
  },
  {
   "cell_type": "markdown",
   "metadata": {},
   "source": [
    "If I wanted to add some additional arguments or output spaces to mriqc, I could do so as follows"
   ]
  },
  {
   "cell_type": "code",
   "execution_count": 7,
   "metadata": {},
   "outputs": [],
   "source": [
    "k.make_slurm(additionals=['--verbose-reports'])"
   ]
  },
  {
   "cell_type": "code",
   "execution_count": 8,
   "metadata": {},
   "outputs": [
    {
     "data": {
      "text/plain": [
       "'mriqc /storage/basic/nh_leverhulme/Richardson_2018 /storage/basic/nh_leverhulme/mriqc/sub-pixar002 participant --participant-label sub-pixar002 -w /storage/basic/nh_leverhulme/work2/sub-pixar002 --verbose-reports'"
      ]
     },
     "execution_count": 8,
     "metadata": {},
     "output_type": "execute_result"
    }
   ],
   "source": [
    "k.cmd"
   ]
  },
  {
   "cell_type": "markdown",
   "metadata": {},
   "source": [
    "The SLURM/ SBATCH pre-commands for provisioning resources are sensible defaults, but If I wanted to add in more, or different slurm pre-commands, I could do this by adding these to the 'slurm' subdictionary of the yml file that comes with the package."
   ]
  },
  {
   "cell_type": "code",
   "execution_count": 9,
   "metadata": {},
   "outputs": [
    {
     "data": {
      "text/plain": [
       "{'cpus_per_task': 8,\n",
       " 'mem_per_cpu': '2G',\n",
       " 'N': '1-1',\n",
       " 'mail_user': 'n.hedger@reading.ac.uk',\n",
       " 'mail_type': 'ALL'}"
      ]
     },
     "execution_count": 9,
     "metadata": {},
     "output_type": "execute_result"
    }
   ],
   "source": [
    "k.y['mriqc_slurm']"
   ]
  },
  {
   "cell_type": "markdown",
   "metadata": {},
   "source": [
    "In other words, I would modify this file:"
   ]
  },
  {
   "cell_type": "code",
   "execution_count": 10,
   "metadata": {},
   "outputs": [
    {
     "data": {
      "text/plain": [
       "'/home/users/yg916972/Software/CINN_fmriprep/config/config.yml'"
      ]
     },
     "execution_count": 10,
     "metadata": {},
     "output_type": "execute_result"
    }
   ],
   "source": [
    "k.yaml"
   ]
  },
  {
   "cell_type": "markdown",
   "metadata": {},
   "source": [
    "The job can be submitted as follows. A message is printed to point to the location of the .out and .err files, which will contain outputs and errors respectively."
   ]
  },
  {
   "cell_type": "code",
   "execution_count": 11,
   "metadata": {},
   "outputs": [
    {
     "name": "stdout",
     "output_type": "stream",
     "text": [
      "Submitted batch job 95107\n",
      "\n",
      "Job with mriqc_sub-pixar002 submitted! \n",
      "\n",
      "               Outputs will be found at /storage/basic/nh_leverhulme/mriqc/sub-pixar002 \n",
      " \n",
      "              Progress updated in /home/users/yg916972/Scripts/mriqc_sub-pixar002.out\n",
      "\n",
      "              Errors will be reported at /home/users/yg916972/Scripts/mriqc_sub-pixar002.err\n",
      "\n"
     ]
    }
   ],
   "source": [
    "k.submit_slurm()"
   ]
  },
  {
   "cell_type": "markdown",
   "metadata": {},
   "source": [
    "## Submitting multiple jobs in parallel. "
   ]
  },
  {
   "cell_type": "markdown",
   "metadata": {},
   "source": [
    "What we may often want to do is submit multiple subjects as multiple jobs to run in parallel. This process is mostly the same as before, but this time we can use the MultipleMriqcHandler. Here, we specify the additional argument of 'subjects' which is passed as a list of strings."
   ]
  },
  {
   "cell_type": "code",
   "execution_count": 20,
   "metadata": {},
   "outputs": [],
   "source": [
    "from CINN_fmriprep.fmriprep import MultipleMriqcHandler as MMQH"
   ]
  },
  {
   "cell_type": "code",
   "execution_count": 13,
   "metadata": {},
   "outputs": [],
   "source": [
    "k= MMQH('/storage/basic/nh_leverhulme/Richardson_2018','/storage/basic/nh_leverhulme/mriqc','/storage/basic/nh_leverhulme/work2',\n",
    "        slurmout_path='/home/users/yg916972/Scripts/',subjects=['sub-pixar032','sub-pixar033'])"
   ]
  },
  {
   "cell_type": "code",
   "execution_count": 14,
   "metadata": {},
   "outputs": [],
   "source": [
    "k.make_mriqc_handlers()\n",
    "k.make_slurms()"
   ]
  },
  {
   "cell_type": "markdown",
   "metadata": {},
   "source": [
    "Now we have a list of FmriPrepHandlers (one for each subject) which correspond to different jobscripts and commands. "
   ]
  },
  {
   "cell_type": "code",
   "execution_count": 15,
   "metadata": {},
   "outputs": [
    {
     "name": "stdout",
     "output_type": "stream",
     "text": [
      "#!/bin/sh\n",
      "\n",
      "#SBATCH --cpus-per-task       8\n",
      "#SBATCH --error               /home/users/yg916972/Scripts/mriqc_sub-pixar032.err\n",
      "#SBATCH --mail-type           ALL\n",
      "#SBATCH --mem-per-cpu         2G\n",
      "#SBATCH --nodes               1-1\n",
      "#SBATCH --output              /home/users/yg916972/Scripts/mriqc_sub-pixar032.out\n",
      "\n",
      "source ~/.bashrc\n",
      "cd /storage\n",
      "\n"
     ]
    }
   ],
   "source": [
    "print(k.handlers[0].slurm)"
   ]
  },
  {
   "cell_type": "code",
   "execution_count": 16,
   "metadata": {},
   "outputs": [
    {
     "data": {
      "text/plain": [
       "'mriqc /storage/basic/nh_leverhulme/Richardson_2018 /storage/basic/nh_leverhulme/mriqc/sub-pixar032 participant --participant-label sub-pixar032 -w /storage/basic/nh_leverhulme/work2/sub-pixar032 '"
      ]
     },
     "execution_count": 16,
     "metadata": {},
     "output_type": "execute_result"
    }
   ],
   "source": [
    "k.handlers[0].cmd"
   ]
  },
  {
   "cell_type": "code",
   "execution_count": 17,
   "metadata": {},
   "outputs": [
    {
     "name": "stdout",
     "output_type": "stream",
     "text": [
      "#!/bin/sh\n",
      "\n",
      "#SBATCH --cpus-per-task       8\n",
      "#SBATCH --error               /home/users/yg916972/Scripts/mriqc_sub-pixar033.err\n",
      "#SBATCH --mail-type           ALL\n",
      "#SBATCH --mem-per-cpu         2G\n",
      "#SBATCH --nodes               1-1\n",
      "#SBATCH --output              /home/users/yg916972/Scripts/mriqc_sub-pixar033.out\n",
      "\n",
      "source ~/.bashrc\n",
      "cd /storage\n",
      "\n"
     ]
    }
   ],
   "source": [
    "print(k.handlers[1].slurm)"
   ]
  },
  {
   "cell_type": "code",
   "execution_count": 18,
   "metadata": {},
   "outputs": [
    {
     "name": "stdout",
     "output_type": "stream",
     "text": [
      "mriqc /storage/basic/nh_leverhulme/Richardson_2018 /storage/basic/nh_leverhulme/mriqc/sub-pixar033 participant --participant-label sub-pixar033 -w /storage/basic/nh_leverhulme/work2/sub-pixar033 \n"
     ]
    }
   ],
   "source": [
    "print(k.handlers[1].cmd)"
   ]
  },
  {
   "cell_type": "code",
   "execution_count": 19,
   "metadata": {},
   "outputs": [
    {
     "name": "stdout",
     "output_type": "stream",
     "text": [
      "Submitted batch job 95109\n",
      "\n",
      "Job with mriqc_sub-pixar032 submitted! \n",
      "\n",
      "               Outputs will be found at /storage/basic/nh_leverhulme/mriqc/sub-pixar032 \n",
      " \n",
      "              Progress updated in /home/users/yg916972/Scripts/mriqc_sub-pixar032.out\n",
      "\n",
      "              Errors will be reported at /home/users/yg916972/Scripts/mriqc_sub-pixar032.err\n",
      "\n",
      "Submitted batch job 95110\n",
      "\n",
      "Job with mriqc_sub-pixar033 submitted! \n",
      "\n",
      "               Outputs will be found at /storage/basic/nh_leverhulme/mriqc/sub-pixar033 \n",
      " \n",
      "              Progress updated in /home/users/yg916972/Scripts/mriqc_sub-pixar033.out\n",
      "\n",
      "              Errors will be reported at /home/users/yg916972/Scripts/mriqc_sub-pixar033.err\n",
      "\n"
     ]
    }
   ],
   "source": [
    "k.submit_slurms()"
   ]
  }
 ],
 "metadata": {
  "kernelspec": {
   "display_name": "CINN_fmriprep",
   "language": "python",
   "name": "python3"
  },
  "language_info": {
   "codemirror_mode": {
    "name": "ipython",
    "version": 3
   },
   "file_extension": ".py",
   "mimetype": "text/x-python",
   "name": "python",
   "nbconvert_exporter": "python",
   "pygments_lexer": "ipython3",
   "version": "3.10.14"
  }
 },
 "nbformat": 4,
 "nbformat_minor": 2
}
