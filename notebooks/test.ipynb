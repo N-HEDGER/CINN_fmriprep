{
 "cells": [
  {
   "cell_type": "code",
   "execution_count": 1,
   "metadata": {},
   "outputs": [],
   "source": [
    "%load_ext autoreload\n",
    "%autoreload 2\n",
    "import os\n"
   ]
  },
  {
   "cell_type": "markdown",
   "metadata": {},
   "source": [
    "## Activate fmriprep\n",
    "\n",
    "Firstly, we need to activate fmriprep. This will add the relevant files to our path. This only needs doing once (you dont have to do it again next time you login).\n",
    "\n"
   ]
  },
  {
   "cell_type": "code",
   "execution_count": 2,
   "metadata": {},
   "outputs": [
    {
     "name": "stdout",
     "output_type": "stream",
     "text": [
      "fmriprep already activated ~/.bashrc\n"
     ]
    }
   ],
   "source": [
    "from CINN_fmriprep.fmriprep import activate_fmriprep\n",
    "activate_fmriprep()"
   ]
  },
  {
   "cell_type": "markdown",
   "metadata": {},
   "source": [
    "## Define an fmriprep handler.\n",
    "\n",
    "Here I define an fmriprephandler. The main arguments are the path to the BIDS directory on which to do the fmriprepping, the output directory and the work directory for intermediate files. slurmout_path will define where the files that update on progress and errors will be stored.  \n",
    "\n",
    "In this case, I also define a subject on whom to do the fmriprepping. If this argument is not included it defaults to doing all subjects (not reccommended)."
   ]
  },
  {
   "cell_type": "code",
   "execution_count": 3,
   "metadata": {},
   "outputs": [],
   "source": [
    "from CINN_fmriprep.fmriprep import FmriPrepHandler as FPH\n",
    "k= FPH(bids_path='/storage/basic/nh_leverhulme/Richardson_2018',out_path='/storage/basic/nh_leverhulme/fmriprep',work_path='/storage/basic/nh_leverhulme/work',\n",
    "       slurmout_path='/home/users/yg916972/Scripts/',subject='sub-pixar007')\n"
   ]
  },
  {
   "cell_type": "markdown",
   "metadata": {},
   "source": [
    "I now make the SLURM job for the subject using the make_slurm method."
   ]
  },
  {
   "cell_type": "code",
   "execution_count": 4,
   "metadata": {},
   "outputs": [],
   "source": [
    "k.make_slurm()"
   ]
  },
  {
   "cell_type": "markdown",
   "metadata": {},
   "source": [
    "Now we have an fmriprep template script created. "
   ]
  },
  {
   "cell_type": "code",
   "execution_count": 5,
   "metadata": {},
   "outputs": [
    {
     "name": "stdout",
     "output_type": "stream",
     "text": [
      "#!/bin/sh\n",
      "\n",
      "#SBATCH --cpus-per-task       16\n",
      "#SBATCH --error               /home/users/yg916972/Scripts/fmriprep_sub-pixar007.err\n",
      "#SBATCH --mem-per-cpu         4G\n",
      "#SBATCH --nodes               1-1\n",
      "#SBATCH --output              /home/users/yg916972/Scripts/fmriprep_sub-pixar007.out\n",
      "\n",
      "source ~/.bashrc\n",
      "cd /storage\n",
      "export SINGULARITYENV_TEMPLATEFLOW_HOME=/storage/research/cinn_comp/cnbpy_Resources/templateflow\n",
      "\n"
     ]
    }
   ],
   "source": [
    "print(k.slurm)"
   ]
  },
  {
   "cell_type": "markdown",
   "metadata": {},
   "source": [
    "Upon being submitted, the following command will be submitted to the job queue using sbatch"
   ]
  },
  {
   "cell_type": "code",
   "execution_count": 59,
   "metadata": {},
   "outputs": [
    {
     "data": {
      "text/plain": [
       "'fmriprep /storage/basic/nh_leverhulme/Richardson_2018 /storage/basic/nh_leverhulme/fmriprep/sub-pixar007 participant --participant-label sub-pixar007 --fs-license-file /storage/research/cinn_comp/cnbpy_Resources/license.txt -w /storage/basic/nh_leverhulme/work/sub-pixar007 --output-spaces MNI152NLin2009cAsym '"
      ]
     },
     "execution_count": 59,
     "metadata": {},
     "output_type": "execute_result"
    }
   ],
   "source": [
    "k.cmd"
   ]
  },
  {
   "cell_type": "markdown",
   "metadata": {},
   "source": [
    "If I wanted to add some additional arguments or output spaces to fmriprep, I could do so as follows"
   ]
  },
  {
   "cell_type": "code",
   "execution_count": 69,
   "metadata": {},
   "outputs": [],
   "source": [
    "k.make_slurm(additionals=['--force-bbr'],output_spaces=['fsnative','fsaverage'])"
   ]
  },
  {
   "cell_type": "code",
   "execution_count": 70,
   "metadata": {},
   "outputs": [
    {
     "data": {
      "text/plain": [
       "'fmriprep /storage/basic/nh_leverhulme/Richardson_2018 /storage/basic/nh_leverhulme/fmriprep/sub-pixar007 participant --participant-label sub-pixar007 --fs-license-file /storage/research/cinn_comp/cnbpy_Resources/license.txt -w /storage/basic/nh_leverhulme/work/sub-pixar007 --output-spaces fsnative fsaverage --force-bbr'"
      ]
     },
     "execution_count": 70,
     "metadata": {},
     "output_type": "execute_result"
    }
   ],
   "source": [
    "k.cmd"
   ]
  },
  {
   "cell_type": "markdown",
   "metadata": {},
   "source": [
    "The SLURM/ SBATCH pre-commands for provisioning resources are sensible defaults, but If I wanted to add in more, or different slurm pre-commands, I could do this by adding these to the 'slurm' subdictionary of the yml file that comes with the package."
   ]
  },
  {
   "cell_type": "code",
   "execution_count": 54,
   "metadata": {},
   "outputs": [
    {
     "data": {
      "text/plain": [
       "{'cpus_per_task': 16, 'mem_per_cpu': '4G', 'N': '1-1'}"
      ]
     },
     "execution_count": 54,
     "metadata": {},
     "output_type": "execute_result"
    }
   ],
   "source": [
    "k.y['slurm']"
   ]
  },
  {
   "cell_type": "markdown",
   "metadata": {},
   "source": [
    "In other words, I would modify this file:"
   ]
  },
  {
   "cell_type": "code",
   "execution_count": 55,
   "metadata": {},
   "outputs": [
    {
     "data": {
      "text/plain": [
       "'/home/users/yg916972/Software/CINN_fmriprep/config/config.yml'"
      ]
     },
     "execution_count": 55,
     "metadata": {},
     "output_type": "execute_result"
    }
   ],
   "source": [
    "k.yaml"
   ]
  },
  {
   "cell_type": "markdown",
   "metadata": {},
   "source": [
    "The job can be submitted as follows. A message is printed to point to the location of the .out and .err files, which will contain outputs and errors respectively."
   ]
  },
  {
   "cell_type": "markdown",
   "metadata": {},
   "source": [
    "k.submit_slurm()"
   ]
  },
  {
   "cell_type": "markdown",
   "metadata": {},
   "source": [
    "## Submitting multiple jobs in parallel. "
   ]
  },
  {
   "cell_type": "markdown",
   "metadata": {},
   "source": [
    "What we may often want to do is submit multiple subjects as multiple jobs to run in parallel. This process is mostly the same as before, but this time we can use the MultipleFmriPrepHandler. Here, we specify the additional argument of 'subjects' which is passed as a list of strings."
   ]
  },
  {
   "cell_type": "code",
   "execution_count": 75,
   "metadata": {},
   "outputs": [],
   "source": [
    "from CINN_fmriprep.fmriprep import MultipleFmriPrepHandler as MFPH"
   ]
  },
  {
   "cell_type": "code",
   "execution_count": 78,
   "metadata": {},
   "outputs": [],
   "source": [
    "k= MFPH('/storage/basic/nh_leverhulme/Richardson_2018','/storage/basic/nh_leverhulme/fmriprep','/storage/basic/nh_leverhulme/work',\n",
    "        slurmout_path='/home/users/yg916972/Scripts/',subjects=['sub-pixar007','sub-pixar008'])"
   ]
  },
  {
   "cell_type": "code",
   "execution_count": 79,
   "metadata": {},
   "outputs": [],
   "source": [
    "k.make_fmriprep_handlers()\n",
    "k.make_slurms(additionals=['--fs-no-reconall'])"
   ]
  },
  {
   "cell_type": "markdown",
   "metadata": {},
   "source": [
    "Now we have a list of FmriPrepHandlers (one for each subject) which correspond to different jobscripts and commands. "
   ]
  },
  {
   "cell_type": "code",
   "execution_count": 81,
   "metadata": {},
   "outputs": [
    {
     "name": "stdout",
     "output_type": "stream",
     "text": [
      "#!/bin/sh\n",
      "\n",
      "#SBATCH --cpus-per-task       16\n",
      "#SBATCH --error               /home/users/yg916972/Scripts/fmriprep_sub-pixar007.err\n",
      "#SBATCH --mem-per-cpu         4G\n",
      "#SBATCH --nodes               1-1\n",
      "#SBATCH --output              /home/users/yg916972/Scripts/fmriprep_sub-pixar007.out\n",
      "\n",
      "source ~/.bashrc\n",
      "cd /storage\n",
      "export SINGULARITYENV_TEMPLATEFLOW_HOME=/storage/research/cinn_comp/cnbpy_Resources/templateflow\n",
      "\n"
     ]
    }
   ],
   "source": [
    "print(k.handlers[0].slurm)"
   ]
  },
  {
   "cell_type": "code",
   "execution_count": 80,
   "metadata": {},
   "outputs": [
    {
     "data": {
      "text/plain": [
       "'fmriprep /storage/basic/nh_leverhulme/Richardson_2018 /storage/basic/nh_leverhulme/fmriprep/sub-pixar007 participant --participant-label sub-pixar007 --fs-license-file /storage/research/cinn_comp/cnbpy_Resources/license.txt -w /storage/basic/nh_leverhulme/work/sub-pixar007 --output-spaces MNI152NLin2009cAsym --fs-no-reconall'"
      ]
     },
     "execution_count": 80,
     "metadata": {},
     "output_type": "execute_result"
    }
   ],
   "source": [
    "k.handlers[0].cmd"
   ]
  },
  {
   "cell_type": "code",
   "execution_count": 82,
   "metadata": {},
   "outputs": [
    {
     "name": "stdout",
     "output_type": "stream",
     "text": [
      "#!/bin/sh\n",
      "\n",
      "#SBATCH --cpus-per-task       16\n",
      "#SBATCH --error               /home/users/yg916972/Scripts/fmriprep_sub-pixar008.err\n",
      "#SBATCH --mem-per-cpu         4G\n",
      "#SBATCH --nodes               1-1\n",
      "#SBATCH --output              /home/users/yg916972/Scripts/fmriprep_sub-pixar008.out\n",
      "\n",
      "source ~/.bashrc\n",
      "cd /storage\n",
      "export SINGULARITYENV_TEMPLATEFLOW_HOME=/storage/research/cinn_comp/cnbpy_Resources/templateflow\n",
      "\n"
     ]
    }
   ],
   "source": [
    "print(k.handlers[1].slurm)"
   ]
  },
  {
   "cell_type": "code",
   "execution_count": 83,
   "metadata": {},
   "outputs": [
    {
     "name": "stdout",
     "output_type": "stream",
     "text": [
      "fmriprep /storage/basic/nh_leverhulme/Richardson_2018 /storage/basic/nh_leverhulme/fmriprep/sub-pixar008 participant --participant-label sub-pixar008 --fs-license-file /storage/research/cinn_comp/cnbpy_Resources/license.txt -w /storage/basic/nh_leverhulme/work/sub-pixar008 --output-spaces MNI152NLin2009cAsym --fs-no-reconall\n"
     ]
    }
   ],
   "source": [
    "print(k.handlers[1].cmd)"
   ]
  },
  {
   "cell_type": "code",
   "execution_count": 43,
   "metadata": {},
   "outputs": [
    {
     "name": "stdout",
     "output_type": "stream",
     "text": [
      "Submitted batch job 70733\n",
      "\n",
      "fMRIprep Job with fmriprep_sub-pixar007 submitted! \n",
      "\n",
      "               Outputs will be found at /storage/basic/nh_leverhulme/fmriprep/sub-pixar007 \n",
      " \n",
      "              Progress updated in /home/users/yg916972/Scripts/fmriprep_sub-pixar007.out\n",
      "\n",
      "              Errors will be reported at /home/users/yg916972/Scripts/fmriprep_sub-pixar007.err\n",
      "\n",
      "Submitted batch job 70734\n",
      "\n",
      "fMRIprep Job with fmriprep_sub-pixar008 submitted! \n",
      "\n",
      "               Outputs will be found at /storage/basic/nh_leverhulme/fmriprep/sub-pixar008 \n",
      " \n",
      "              Progress updated in /home/users/yg916972/Scripts/fmriprep_sub-pixar008.out\n",
      "\n",
      "              Errors will be reported at /home/users/yg916972/Scripts/fmriprep_sub-pixar008.err\n",
      "\n"
     ]
    }
   ],
   "source": [
    "k.submit_slurms()"
   ]
  }
 ],
 "metadata": {
  "kernelspec": {
   "display_name": "CINN_fmriprep",
   "language": "python",
   "name": "python3"
  },
  "language_info": {
   "codemirror_mode": {
    "name": "ipython",
    "version": 3
   },
   "file_extension": ".py",
   "mimetype": "text/x-python",
   "name": "python",
   "nbconvert_exporter": "python",
   "pygments_lexer": "ipython3",
   "version": "3.10.14"
  }
 },
 "nbformat": 4,
 "nbformat_minor": 2
}
